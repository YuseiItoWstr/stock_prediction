{
 "cells": [
  {
   "cell_type": "markdown",
   "metadata": {},
   "source": [
    "# モジュール"
   ]
  },
  {
   "cell_type": "code",
   "execution_count": 15,
   "metadata": {},
   "outputs": [],
   "source": [
    "import pandas as pd\n",
    "import re\n",
    "import pandas as pd\n",
    "import numpy as np\n",
    "import requests\n",
    "from tqdm import tqdm\n",
    "from bs4 import BeautifulSoup\n",
    "pd.set_option('display.max_colwidth', None)\n",
    "pd.set_option('display.max_rows', 20)\n",
    "pd.set_option('display.max_columns', 30)"
   ]
  },
  {
   "cell_type": "code",
   "execution_count": 19,
   "metadata": {},
   "outputs": [
    {
     "name": "stderr",
     "output_type": "stream",
     "text": [
      "Processing:  33%|███▎      | 2898/8698 [08:05<18:01,  5.36it/s] "
     ]
    },
    {
     "name": "stdout",
     "output_type": "stream",
     "text": [
      "An error occurred for code 4197: 4 columns passed, passed data had 0 columns\n"
     ]
    },
    {
     "name": "stderr",
     "output_type": "stream",
     "text": [
      "Processing:  40%|████      | 3513/8698 [09:52<11:04,  7.80it/s]"
     ]
    },
    {
     "name": "stdout",
     "output_type": "stream",
     "text": [
      "An error occurred for code 4811: 4 columns passed, passed data had 0 columns\n"
     ]
    },
    {
     "name": "stderr",
     "output_type": "stream",
     "text": [
      "Processing:  41%|████▏     | 3598/8698 [10:05<14:22,  5.91it/s]"
     ]
    },
    {
     "name": "stdout",
     "output_type": "stream",
     "text": [
      "An error occurred for code 4896: 4 columns passed, passed data had 0 columns\n"
     ]
    },
    {
     "name": "stderr",
     "output_type": "stream",
     "text": [
      "Processing:  49%|████▉     | 4297/8698 [11:44<11:25,  6.42it/s]"
     ]
    },
    {
     "name": "stdout",
     "output_type": "stream",
     "text": [
      "An error occurred for code 5595: 4 columns passed, passed data had 0 columns\n",
      "An error occurred for code 5596: 4 columns passed, passed data had 0 columns\n"
     ]
    },
    {
     "name": "stderr",
     "output_type": "stream",
     "text": [
      "Processing:  49%|████▉     | 4298/8698 [11:44<11:48,  6.21it/s]"
     ]
    },
    {
     "name": "stdout",
     "output_type": "stream",
     "text": [
      "An error occurred for code 5597: 4 columns passed, passed data had 0 columns\n"
     ]
    },
    {
     "name": "stderr",
     "output_type": "stream",
     "text": [
      "Processing:  49%|████▉     | 4301/8698 [11:44<10:30,  6.97it/s]"
     ]
    },
    {
     "name": "stdout",
     "output_type": "stream",
     "text": [
      "An error occurred for code 5599: 4 columns passed, passed data had 0 columns\n"
     ]
    },
    {
     "name": "stderr",
     "output_type": "stream",
     "text": [
      "Processing:  50%|████▉     | 4318/8698 [11:47<10:01,  7.28it/s]"
     ]
    },
    {
     "name": "stdout",
     "output_type": "stream",
     "text": [
      "An error occurred for code 5616: 4 columns passed, passed data had 0 columns\n"
     ]
    },
    {
     "name": "stderr",
     "output_type": "stream",
     "text": [
      "Processing:  50%|████▉     | 4320/8698 [11:48<11:42,  6.23it/s]"
     ]
    },
    {
     "name": "stdout",
     "output_type": "stream",
     "text": [
      "An error occurred for code 5618: 4 columns passed, passed data had 0 columns\n",
      "An error occurred for code 5619: 4 columns passed, passed data had 0 columns\n"
     ]
    },
    {
     "name": "stderr",
     "output_type": "stream",
     "text": [
      "Processing:  50%|████▉     | 4323/8698 [11:48<11:02,  6.60it/s]"
     ]
    },
    {
     "name": "stdout",
     "output_type": "stream",
     "text": [
      "An error occurred for code 5621: 4 columns passed, passed data had 0 columns\n"
     ]
    },
    {
     "name": "stderr",
     "output_type": "stream",
     "text": [
      "Processing:  52%|█████▏    | 4548/8698 [12:18<09:46,  7.08it/s]"
     ]
    },
    {
     "name": "stdout",
     "output_type": "stream",
     "text": [
      "An error occurred for code 5845: 4 columns passed, passed data had 0 columns\n"
     ]
    },
    {
     "name": "stderr",
     "output_type": "stream",
     "text": [
      "Processing:  52%|█████▏    | 4559/8698 [12:20<11:18,  6.10it/s]"
     ]
    },
    {
     "name": "stdout",
     "output_type": "stream",
     "text": [
      "An error occurred for code 5858: 4 columns passed, passed data had 0 columns\n"
     ]
    },
    {
     "name": "stderr",
     "output_type": "stream",
     "text": [
      "Processing:  53%|█████▎    | 4569/8698 [12:21<09:57,  6.91it/s]"
     ]
    },
    {
     "name": "stdout",
     "output_type": "stream",
     "text": [
      "An error occurred for code 5867: 4 columns passed, passed data had 0 columns\n",
      "An error occurred for code 5868: 4 columns passed, passed data had 0 columns\n"
     ]
    },
    {
     "name": "stderr",
     "output_type": "stream",
     "text": [
      "Processing:  53%|█████▎    | 4571/8698 [12:21<10:52,  6.32it/s]"
     ]
    },
    {
     "name": "stdout",
     "output_type": "stream",
     "text": [
      "An error occurred for code 5869: 4 columns passed, passed data had 0 columns\n",
      "An error occurred for code 5870: 4 columns passed, passed data had 0 columns\n"
     ]
    },
    {
     "name": "stderr",
     "output_type": "stream",
     "text": [
      "Processing:  53%|█████▎    | 4573/8698 [12:21<09:59,  6.88it/s]"
     ]
    },
    {
     "name": "stdout",
     "output_type": "stream",
     "text": [
      "An error occurred for code 5871: 4 columns passed, passed data had 0 columns\n"
     ]
    },
    {
     "name": "stderr",
     "output_type": "stream",
     "text": [
      "Processing:  53%|█████▎    | 4589/8698 [12:23<09:07,  7.51it/s]"
     ]
    },
    {
     "name": "stdout",
     "output_type": "stream",
     "text": [
      "An error occurred for code 5888: 4 columns passed, passed data had 0 columns\n"
     ]
    },
    {
     "name": "stderr",
     "output_type": "stream",
     "text": [
      "Processing:  53%|█████▎    | 4590/8698 [12:24<12:46,  5.36it/s]"
     ]
    },
    {
     "name": "stdout",
     "output_type": "stream",
     "text": [
      "An error occurred for code 5889: 4 columns passed, passed data had 0 columns\n"
     ]
    },
    {
     "name": "stderr",
     "output_type": "stream",
     "text": [
      "Processing:  53%|█████▎    | 4593/8698 [12:24<11:36,  5.90it/s]"
     ]
    },
    {
     "name": "stdout",
     "output_type": "stream",
     "text": [
      "An error occurred for code 5891: 4 columns passed, passed data had 0 columns\n",
      "An error occurred for code 5892: 4 columns passed, passed data had 0 columns\n"
     ]
    },
    {
     "name": "stderr",
     "output_type": "stream",
     "text": [
      "Processing:  60%|██████    | 5227/8698 [14:16<10:20,  5.60it/s]"
     ]
    },
    {
     "name": "stdout",
     "output_type": "stream",
     "text": [
      "An error occurred for code 6525: 4 columns passed, passed data had 0 columns\n"
     ]
    },
    {
     "name": "stderr",
     "output_type": "stream",
     "text": [
      "Processing:  91%|█████████ | 7872/8698 [21:29<02:27,  5.59it/s]"
     ]
    },
    {
     "name": "stdout",
     "output_type": "stream",
     "text": [
      "An error occurred for code 9170: 4 columns passed, passed data had 0 columns\n"
     ]
    },
    {
     "name": "stderr",
     "output_type": "stream",
     "text": [
      "Processing:  91%|█████████▏| 7937/8698 [21:38<02:05,  6.05it/s]"
     ]
    },
    {
     "name": "stdout",
     "output_type": "stream",
     "text": [
      "An error occurred for code 9235: 4 columns passed, passed data had 0 columns\n",
      "An error occurred for code 9236: 4 columns passed, passed data had 0 columns\n"
     ]
    },
    {
     "name": "stderr",
     "output_type": "stream",
     "text": [
      "Processing:  91%|█████████▏| 7939/8698 [21:39<02:16,  5.56it/s]"
     ]
    },
    {
     "name": "stdout",
     "output_type": "stream",
     "text": [
      "An error occurred for code 9237: 4 columns passed, passed data had 0 columns\n",
      "An error occurred for code 9238: 4 columns passed, passed data had 0 columns\n"
     ]
    },
    {
     "name": "stderr",
     "output_type": "stream",
     "text": [
      "Processing: 100%|██████████| 8698/8698 [23:42<00:00,  6.11it/s]\n"
     ]
    }
   ],
   "source": [
    "kihon_df_list = []\n",
    "suii_code_df_list = []\n",
    "\n",
    "for i in tqdm(range(1300, 9998), desc=\"Processing\"):\n",
    "    \n",
    "    try:\n",
    "        # スクレイピング対象のURL\n",
    "        url = f'https://kabutan.jp/stock/?code={str(i)}'\n",
    "\n",
    "        # URLからデータを取得\n",
    "        response = requests.get(url)\n",
    "        response.encoding = 'utf-8'\n",
    "\n",
    "        # BeautifulSoupでHTMLを解析\n",
    "        soup = BeautifulSoup(response.text, 'html.parser')\n",
    "\n",
    "        # テキスト要素を抽出\n",
    "        text_elements = soup.get_text()\n",
    "\n",
    "        # 不要な空白や改行を除外\n",
    "        clean_text = re.sub(r'\\s+', ' ', text_elements).strip() \n",
    "\n",
    "        # 空白区切りで単語に分ける\n",
    "        words_list = clean_text.split()\n",
    "\n",
    "        if \"大株主\" not in words_list:\n",
    "            continue\n",
    "\n",
    "        # それぞれの単語のインデックスを取得\n",
    "        realtime_index = words_list.index(\"リアルタイムに変更\")\n",
    "        hikaku_index = words_list.index(\"比較される銘柄\")\n",
    "\n",
    "        # インデックス番号の間にあるワードを抽出\n",
    "        taishaku_info = words_list[realtime_index + 1 : hikaku_index]\n",
    "\n",
    "        # 最初の3要素を抜き出す\n",
    "        first_four = taishaku_info[:3]\n",
    "\n",
    "        # 「業績」というワードの次の要素を抜き出す\n",
    "        index_of_gyouseki = taishaku_info.index('業績')\n",
    "        gyousyu = taishaku_info[index_of_gyouseki + 1]\n",
    "\n",
    "        # 最後の6要素を抜き出す\n",
    "        last_six = taishaku_info[-6:]\n",
    "        last_six.remove(\"時価総額\")\n",
    "\n",
    "        # 全てを一つのリストに格納\n",
    "        cleaned_taishaku_info = first_four + [gyousyu] + last_six\n",
    "\n",
    "        columns = ['証券コード', '銘柄', '市場', '業種', 'PER', 'PBR', '利回り', '信用倍率', '時価総額']\n",
    "\n",
    "        taishaku_df = pd.DataFrame([cleaned_taishaku_info], columns=columns)\n",
    "\n",
    "        # 目的の単語\n",
    "        gonitisen = \"5日線\"\n",
    "        happyoubi = \"発表日\"\n",
    "        tansin = \"直近の決算短信\"\n",
    "\n",
    "        if gonitisen in words_list:\n",
    "            index_gonitisen = words_list.index(gonitisen)\n",
    "            trend_list = words_list[index_gonitisen + 4 : index_gonitisen + 8]  # インデックス+5から+8までを含む\n",
    "        else:\n",
    "            trend_list = []\n",
    "\n",
    "        if happyoubi in words_list and tansin in words_list:\n",
    "            index_happyoubi = words_list.index(happyoubi)\n",
    "            index_tansin = words_list.index(tansin)\n",
    "            if index_happyoubi < index_tansin:\n",
    "                suii_list = words_list[index_happyoubi + 1 : index_tansin] \n",
    "            else:\n",
    "                suii_list = []\n",
    "        else:\n",
    "            suii_list = []\n",
    "            \n",
    "        suii_list = [x for x in suii_list if x not in ('予', 'I')]\n",
    "\n",
    "        trend_df = pd.DataFrame([trend_list], columns=['5日線', '25日線', '75日線', '200日線'])\n",
    "\n",
    "        # suii_listの長さを7の倍数に調整する\n",
    "        while len(suii_list) % 7 != 0:\n",
    "            suii_list.append(None)  # 足りない部分をNoneで埋める\n",
    "        suii_array = np.array(suii_list).reshape(-1, 7)\n",
    "\n",
    "        # データフレームに変換し、列名を設定\n",
    "        suii_df = pd.DataFrame(suii_array, columns=['決算期', '売上高', '経常益', '最終益', '１株益', '１株配', '発表日'])\n",
    "\n",
    "        kihon_df = pd.concat([taishaku_df, trend_df], axis=1)\n",
    "        kihon_df_list.append(kihon_df)\n",
    "\n",
    "        shouken_code = pd.DataFrame({'証券コード': np.repeat(kihon_df['証券コード'].values, len(suii_df))})\n",
    "        # suii_dfとkihon_df_repeatedを結合\n",
    "        suii_code_df = pd.concat([shouken_code.reset_index(drop=True), suii_df.reset_index(drop=True)], axis=1)\n",
    "        suii_code_df_list.append(suii_code_df)\n",
    "        \n",
    "    except Exception as e:\n",
    "        print(f\"An error occurred for code {i}: {e}\")\n",
    "        continue  # エラーが発生した場合は次のループに進む\n",
    "\n",
    "DATA_DIR = '/Users/yuseiito/Desktop/stock/data/'\n",
    "all_kihon_df = pd.concat(kihon_df_list, ignore_index=True)\n",
    "all_suii_code_df = pd.concat(suii_code_df_list, ignore_index=True)\n",
    "all_kihon_df.to_csv(f'{DATA_DIR}/basic_info.csv', index=False, encoding='utf-8-sig')\n",
    "all_suii_code_df.to_csv(f'{DATA_DIR}/performance_trend.csv', index=False, encoding='utf-8-sig')\n"
   ]
  }
 ],
 "metadata": {
  "kernelspec": {
   "display_name": "base",
   "language": "python",
   "name": "python3"
  },
  "language_info": {
   "codemirror_mode": {
    "name": "ipython",
    "version": 3
   },
   "file_extension": ".py",
   "mimetype": "text/x-python",
   "name": "python",
   "nbconvert_exporter": "python",
   "pygments_lexer": "ipython3",
   "version": "3.11.9"
  }
 },
 "nbformat": 4,
 "nbformat_minor": 2
}
